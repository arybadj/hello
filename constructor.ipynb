{
 "cells": [
  {
   "cell_type": "markdown",
   "metadata": {},
   "source": [
    "# Constructor\n",
    "* The init() Function\n",
    "* The examples above are classes and objects in their simplest form , and are not really useful in real life applications\n",
    "\n",
    "to undersatnd the meaning of classes we have to understand the build-in-init() Function.\n",
    "\n",
    "* All the classes have  a function called init() , which is always exceuted when the class is being initiated.\n",
    "* Use the init() finction to assign values to object properties , or other operation that are necessaryto do \n",
    "When the object is being created:\n",
    "\n",
    "\n",
    "        **Create a class anmed Person, use the __init__() function to assign values for \n",
    "        name and age:**"
   ]
  },
  {
   "cell_type": "code",
   "execution_count": 1,
   "metadata": {},
   "outputs": [
    {
     "name": "stdout",
     "output_type": "stream",
     "text": [
      "john lenadi\n",
      "55\n"
     ]
    }
   ],
   "source": [
    "class Person:\n",
    "    def __init__(self,name,age):\n",
    "        #instance variable\n",
    "        self.name=name\n",
    "        self.age=age\n",
    "\n",
    "p1=Person(\"john lenadi\",55)\n",
    "\n",
    "print(p1.name)\n",
    "print(p1.age)\n",
    "        "
   ]
  },
  {
   "cell_type": "markdown",
   "metadata": {},
   "source": []
  },
  {
   "cell_type": "markdown",
   "metadata": {},
   "source": [
    "** Note: the __init__() function is called automatically time the class is being used"
   ]
  },
  {
   "cell_type": "code",
   "execution_count": 3,
   "metadata": {},
   "outputs": [
    {
     "name": "stdout",
     "output_type": "stream",
     "text": [
      "father name nkj\n"
     ]
    }
   ],
   "source": [
    "class Parent:\n",
    "    def __init__(self,name,age):\n",
    "        #instance variable\n",
    "        self.name=name\n",
    "        self.age=age\n",
    "\n",
    "    def father(self):\n",
    "        print(\"father name\",self.name)\n",
    "\n",
    "p1=Parent(\"nkj\",20)\n",
    "p1.father()\n",
    "\n",
    "    "
   ]
  },
  {
   "cell_type": "code",
   "execution_count": null,
   "metadata": {},
   "outputs": [],
   "source": []
  }
 ],
 "metadata": {
  "kernelspec": {
   "display_name": "venv",
   "language": "python",
   "name": "python3"
  },
  "language_info": {
   "codemirror_mode": {
    "name": "ipython",
    "version": 3
   },
   "file_extension": ".py",
   "mimetype": "text/x-python",
   "name": "python",
   "nbconvert_exporter": "python",
   "pygments_lexer": "ipython3",
   "version": "3.12.4"
  }
 },
 "nbformat": 4,
 "nbformat_minor": 2
}
