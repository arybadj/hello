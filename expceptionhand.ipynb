{
 "cells": [
  {
   "cell_type": "code",
   "execution_count": null,
   "metadata": {},
   "outputs": [],
   "source": []
  },
  {
   "cell_type": "markdown",
   "metadata": {},
   "source": [
    "# Python Error Handling\n",
    "\n",
    "* The try block lets you test a block of code for errors.\n",
    "* The except block lets you handle the error.\n",
    "* The finally block lets you execute code, regardless of the result of the **try- and except blocks**.\n",
    "\n",
    "       ** Exception Handling ** \n",
    "When an error occurs, or exception as we call it, Python will normally stop and generate an error message.\n",
    "\n",
    "These exceptions can be handled using the try statement:"
   ]
  },
  {
   "cell_type": "code",
   "execution_count": 2,
   "metadata": {},
   "outputs": [
    {
     "name": "stdout",
     "output_type": "stream",
     "text": [
      "no div\n"
     ]
    }
   ],
   "source": [
    "try:\n",
    "    a=int(input(\"enter the number\"))\n",
    "    b=int(input(\"enter the number\"))\n",
    "    c=a/b\n",
    "    print(c)\n",
    "except :\n",
    "    print(\"no div\")"
   ]
  },
  {
   "cell_type": "code",
   "execution_count": 3,
   "metadata": {},
   "outputs": [
    {
     "name": "stdout",
     "output_type": "stream",
     "text": [
      "no div\n"
     ]
    }
   ],
   "source": [
    "try:\n",
    "    a=int(input(\"enter the number\"))\n",
    "    b=int(input(\"enter the number\"))\n",
    "    c=a/b\n",
    "    print(c)\n",
    "except :\n",
    "    print(\"no div\")\n",
    "\n",
    "else:\n",
    "    d=a+b\n",
    "    print(d)\n",
    "\n"
   ]
  },
  {
   "cell_type": "code",
   "execution_count": 5,
   "metadata": {},
   "outputs": [
    {
     "name": "stdout",
     "output_type": "stream",
     "text": [
      "1.3333333333333333\n",
      "values are correct\n",
      "154\n",
      "all good no error \n"
     ]
    }
   ],
   "source": [
    "try:\n",
    "    a=int(input(\"enter the number\"))\n",
    "    b=int(input(\"enter the second number\"))\n",
    "    d=a/b\n",
    "    print(d)\n",
    "\n",
    "except ZeroDivisionError:\n",
    "    print(\"dont write zero\")\n",
    "\n",
    "else:\n",
    "    print(\"values are correct\")\n",
    "    e=a+b\n",
    "    print(e)\n",
    "\n",
    "finally:\n",
    "    print(\"all good no error \")"
   ]
  },
  {
   "cell_type": "code",
   "execution_count": null,
   "metadata": {},
   "outputs": [],
   "source": []
  }
 ],
 "metadata": {
  "kernelspec": {
   "display_name": ".venv",
   "language": "python",
   "name": "python3"
  },
  "language_info": {
   "codemirror_mode": {
    "name": "ipython",
    "version": 3
   },
   "file_extension": ".py",
   "mimetype": "text/x-python",
   "name": "python",
   "nbconvert_exporter": "python",
   "pygments_lexer": "ipython3",
   "version": "3.11.9"
  }
 },
 "nbformat": 4,
 "nbformat_minor": 2
}
