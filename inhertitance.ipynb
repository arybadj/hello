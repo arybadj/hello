{
 "cells": [
  {
   "cell_type": "code",
   "execution_count": null,
   "metadata": {},
   "outputs": [],
   "source": []
  },
  {
   "cell_type": "code",
   "execution_count": null,
   "metadata": {},
   "outputs": [
    {
     "ename": "",
     "evalue": "",
     "output_type": "error",
     "traceback": [
      "\u001b[1;31mRunning cells with 'Python 3.11.9' requires the ipykernel package.\n",
      "\u001b[1;31mRun the following command to install 'ipykernel' into the Python environment. \n",
      "\u001b[1;31mCommand: 'c:/Users/hp/AppData/Local/Microsoft/WindowsApps/python3.11.exe -m pip install ipykernel -U --user --force-reinstall'"
     ]
    }
   ],
   "source": []
  },
  {
   "cell_type": "code",
   "execution_count": 2,
   "metadata": {},
   "outputs": [
    {
     "name": "stdout",
     "output_type": "stream",
     "text": [
      "45\n"
     ]
    }
   ],
   "source": [
    "class father():\n",
    "    father_name=\"ram\"\n",
    "    father_age=45\n",
    "\n",
    "class child(father):\n",
    "    pass\n",
    "a=child()\n",
    "print(a.father_age)\n"
   ]
  },
  {
   "cell_type": "code",
   "execution_count": 7,
   "metadata": {},
   "outputs": [
    {
     "name": "stdout",
     "output_type": "stream",
     "text": [
      "54\n"
     ]
    }
   ],
   "source": [
    "class Grandfather():\n",
    "    def __init__(self,g_name,g_age,g_accountnumber):\n",
    "        self.g_name=g_name\n",
    "        self.g_age=g_age\n",
    "        self.g_accountnumber=g_accountnumber\n",
    "\n",
    "    def gf(x):\n",
    "        print(\"grand father name\",x.g_name)\n",
    "class Father(Grandfather):\n",
    "    def ff(y):\n",
    "        father_name=\"xyz\"\n",
    "        father_age=54\n",
    "        father_account=9460655555\n",
    "        print(\"account number\",father_account)\n",
    "\n",
    "class child(Grandfather,father):\n",
    "    pass\n",
    "a =child('xyc',54,6546565)\n",
    "print(a.g_age)\n",
    "\n"
   ]
  },
  {
   "cell_type": "code",
   "execution_count": null,
   "metadata": {},
   "outputs": [],
   "source": []
  }
 ],
 "metadata": {
  "kernelspec": {
   "display_name": "Python 3",
   "language": "python",
   "name": "python3"
  },
  "language_info": {
   "codemirror_mode": {
    "name": "ipython",
    "version": 3
   },
   "file_extension": ".py",
   "mimetype": "text/x-python",
   "name": "python",
   "nbconvert_exporter": "python",
   "pygments_lexer": "ipython3",
   "version": "3.11.9"
  }
 },
 "nbformat": 4,
 "nbformat_minor": 2
}
